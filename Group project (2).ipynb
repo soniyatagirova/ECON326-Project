{
 "cells": [
  {
   "cell_type": "markdown",
   "id": "a5fa7e98-cdc9-4466-b578-3b9f8fea399c",
   "metadata": {},
   "source": [
    "### read me: （for data cleaning)\n",
    "1. Some data were cleaned due to incomplete or ambiguous entries.\n",
    "2. However, we still have 170 samples, which is more than the minimum requirement.\n",
    "3. We found that the units for screen time, study hours, and sleep were inconsistent. Therefore, we converted all of them to a standard unit of hours.\n",
    "4. social_media and screen_time are time spent on them for non-academic purpose in hours after converting  "
   ]
  },
  {
   "cell_type": "markdown",
   "id": "7a74ffbc-a03f-4dd1-9cb0-7778b3a5ebce",
   "metadata": {},
   "source": [
    "### read me: \n",
    "1. The test is going to investigate how the study hours, screen time, and social hours affect stduents sleep hours.\n",
    "2. We need to control the demographical and socio-economic factors, to do this we worked through two way: \n",
    " set these variables as dummay variables into the regression model\n",
    "2.2 control these variables, and put them into the different groups and test the coefficient."
   ]
  },
  {
   "cell_type": "code",
   "execution_count": 1,
   "id": "f146f2f6-d4e2-45b9-b141-85a0a4549caf",
   "metadata": {},
   "outputs": [
    {
     "name": "stderr",
     "output_type": "stream",
     "text": [
      "Warning message:\n",
      "“package ‘lubridate’ was built under R version 4.4.2”\n",
      "── \u001b[1mAttaching core tidyverse packages\u001b[22m ──────────────────────── tidyverse 2.0.0 ──\n",
      "\u001b[32m✔\u001b[39m \u001b[34mdplyr    \u001b[39m 1.1.4     \u001b[32m✔\u001b[39m \u001b[34mreadr    \u001b[39m 2.1.5\n",
      "\u001b[32m✔\u001b[39m \u001b[34mforcats  \u001b[39m 1.0.0     \u001b[32m✔\u001b[39m \u001b[34mstringr  \u001b[39m 1.5.1\n",
      "\u001b[32m✔\u001b[39m \u001b[34mggplot2  \u001b[39m 3.5.1     \u001b[32m✔\u001b[39m \u001b[34mtibble   \u001b[39m 3.2.1\n",
      "\u001b[32m✔\u001b[39m \u001b[34mlubridate\u001b[39m 1.9.4     \u001b[32m✔\u001b[39m \u001b[34mtidyr    \u001b[39m 1.3.1\n",
      "\u001b[32m✔\u001b[39m \u001b[34mpurrr    \u001b[39m 1.0.2     \n",
      "── \u001b[1mConflicts\u001b[22m ────────────────────────────────────────── tidyverse_conflicts() ──\n",
      "\u001b[31m✖\u001b[39m \u001b[34mdplyr\u001b[39m::\u001b[32mfilter()\u001b[39m masks \u001b[34mstats\u001b[39m::filter()\n",
      "\u001b[31m✖\u001b[39m \u001b[34mdplyr\u001b[39m::\u001b[32mlag()\u001b[39m    masks \u001b[34mstats\u001b[39m::lag()\n",
      "\u001b[36mℹ\u001b[39m Use the conflicted package (\u001b[3m\u001b[34m<http://conflicted.r-lib.org/>\u001b[39m\u001b[23m) to force all conflicts to become errors\n"
     ]
    },
    {
     "ename": "ERROR",
     "evalue": "Error in library(infer): there is no package called ‘infer’\n",
     "output_type": "error",
     "traceback": [
      "Error in library(infer): there is no package called ‘infer’\nTraceback:\n",
      "1. stop(packageNotFoundError(package, lib.loc, sys.call()))"
     ]
    }
   ],
   "source": [
    "library(tidyverse)\n",
    "library(repr)\n",
    "library(infer)\n",
    "library(cowplot)\n",
    "library(broom)\n",
    "library(dplyr)"
   ]
  },
  {
   "cell_type": "code",
   "execution_count": 4,
   "id": "676e3d0c-de0a-44da-a501-589aabdf6559",
   "metadata": {},
   "outputs": [],
   "source": [
    "data <- read.csv(\"data2.csv\", header = TRUE)"
   ]
  },
  {
   "cell_type": "code",
   "execution_count": 5,
   "id": "abdd496a-8a70-4235-bd38-63ef7f399e07",
   "metadata": {},
   "outputs": [
    {
     "name": "stderr",
     "output_type": "stream",
     "text": [
      "Warning message:\n",
      "“\u001b[1m\u001b[22mThere were 2 warnings in `mutate()`.\n",
      "The first warning was:\n",
      "\u001b[1m\u001b[22m\u001b[36mℹ\u001b[39m In argument: `sleep_hours = as.numeric(sleep_hours)`.\n",
      "Caused by warning:\n",
      "\u001b[33m!\u001b[39m NAs introduced by coercion\n",
      "\u001b[1m\u001b[22m\u001b[36mℹ\u001b[39m Run `dplyr::last_dplyr_warnings()` to see the 1 remaining warning.”\n"
     ]
    }
   ],
   "source": [
    "# Convert relevant variables to numeric\n",
    "data <- data |> mutate(\n",
    "    sleep_hours = as.numeric(sleep_hours),\n",
    "    Hour_all_courses = as.numeric(Hour_all_courses),\n",
    "    minute_social_media = as.numeric(minute_social_media),\n",
    "    Hour_screen_nonacademic = as.numeric(Hour_screen_nonacademic),\n",
    "    IsDomestic = as.numeric(IsDomestic),\n",
    "    IsWorking = as.numeric(IsWorking),\n",
    "    hour_social_media = as.numeric(hour_social_media),\n",
    "    hour_sports = as.numeric(hour_sports),\n",
    "    hour_friends = as.numeric(hour_friends),\n",
    "    hour_family = as.numeric(hour_Socialize_family),\n",
    "    Hour_all_courses = as.numeric(Hour_all_courses)\n",
    "  )\n",
    "\n",
    "\n",
    "\n"
   ]
  },
  {
   "cell_type": "code",
   "execution_count": 6,
   "id": "1f362778-1595-46d0-8ef0-95a03db24687",
   "metadata": {},
   "outputs": [
    {
     "data": {
      "text/html": [
       "<style>\n",
       ".list-inline {list-style: none; margin:0; padding: 0}\n",
       ".list-inline>li {display: inline-block}\n",
       ".list-inline>li:not(:last-child)::after {content: \"\\00b7\"; padding: 0 .5ex}\n",
       "</style>\n",
       "<ol class=list-inline><li>'GPA'</li><li>'Hour_Econ326'</li><li>'Hour_all_courses'</li><li>'Extra_hour_forexam'</li><li>'Coursetake.semester'</li><li>'X7..Do.you.prefer.courses.that.focus.more.on.practical.applications.or.theoretical.concepts.'</li><li>'AL_tool_Hour'</li><li>'feel_of_AI_Tool'</li><li>'Hour_classmaterial'</li><li>'Hour_Assignment'</li><li>'hour_sports'</li><li>'hour_studentclub'</li><li>'hour_volunteer'</li><li>'hour_friends'</li><li>'hour_Socialize_family'</li><li>'student_type'</li><li>'IsDomestic'</li><li>'Tuition_percourse'</li><li>'Scholarship'</li><li>'percent_financial_aid'</li><li>'Work_or_not'</li><li>'IsWorking'</li><li>'work'</li><li>'Hour_work'</li><li>'feeling_financial_situation'</li><li>'sleep_hours'</li><li>'minute_social_media'</li><li>'hour_social_media'</li><li>'Minute_screen_nonacademic'</li><li>'Hour_screen_nonacademic'</li><li>'feeling_depress'</li><li>'Minute_Commute'</li><li>'Hour_commute'</li><li>'Transportantion_mode'</li><li>'X30..Do.you.prefer.taking.online.courses..in.person.courses..or.a.hybrid.of.both.'</li><li>'feeling_future_employ'</li><li>'Future_education'</li><li>'confidentlevel_job'</li><li>'career_path'</li><li>'Faculty'</li><li>'ethnicity'</li><li>'X37..Which.year.are.you.in.at.your.undergraduate.program.at.UBC.'</li><li>'hour_family'</li></ol>\n"
      ],
      "text/latex": [
       "\\begin{enumerate*}\n",
       "\\item 'GPA'\n",
       "\\item 'Hour\\_Econ326'\n",
       "\\item 'Hour\\_all\\_courses'\n",
       "\\item 'Extra\\_hour\\_forexam'\n",
       "\\item 'Coursetake.semester'\n",
       "\\item 'X7..Do.you.prefer.courses.that.focus.more.on.practical.applications.or.theoretical.concepts.'\n",
       "\\item 'AL\\_tool\\_Hour'\n",
       "\\item 'feel\\_of\\_AI\\_Tool'\n",
       "\\item 'Hour\\_classmaterial'\n",
       "\\item 'Hour\\_Assignment'\n",
       "\\item 'hour\\_sports'\n",
       "\\item 'hour\\_studentclub'\n",
       "\\item 'hour\\_volunteer'\n",
       "\\item 'hour\\_friends'\n",
       "\\item 'hour\\_Socialize\\_family'\n",
       "\\item 'student\\_type'\n",
       "\\item 'IsDomestic'\n",
       "\\item 'Tuition\\_percourse'\n",
       "\\item 'Scholarship'\n",
       "\\item 'percent\\_financial\\_aid'\n",
       "\\item 'Work\\_or\\_not'\n",
       "\\item 'IsWorking'\n",
       "\\item 'work'\n",
       "\\item 'Hour\\_work'\n",
       "\\item 'feeling\\_financial\\_situation'\n",
       "\\item 'sleep\\_hours'\n",
       "\\item 'minute\\_social\\_media'\n",
       "\\item 'hour\\_social\\_media'\n",
       "\\item 'Minute\\_screen\\_nonacademic'\n",
       "\\item 'Hour\\_screen\\_nonacademic'\n",
       "\\item 'feeling\\_depress'\n",
       "\\item 'Minute\\_Commute'\n",
       "\\item 'Hour\\_commute'\n",
       "\\item 'Transportantion\\_mode'\n",
       "\\item 'X30..Do.you.prefer.taking.online.courses..in.person.courses..or.a.hybrid.of.both.'\n",
       "\\item 'feeling\\_future\\_employ'\n",
       "\\item 'Future\\_education'\n",
       "\\item 'confidentlevel\\_job'\n",
       "\\item 'career\\_path'\n",
       "\\item 'Faculty'\n",
       "\\item 'ethnicity'\n",
       "\\item 'X37..Which.year.are.you.in.at.your.undergraduate.program.at.UBC.'\n",
       "\\item 'hour\\_family'\n",
       "\\end{enumerate*}\n"
      ],
      "text/markdown": [
       "1. 'GPA'\n",
       "2. 'Hour_Econ326'\n",
       "3. 'Hour_all_courses'\n",
       "4. 'Extra_hour_forexam'\n",
       "5. 'Coursetake.semester'\n",
       "6. 'X7..Do.you.prefer.courses.that.focus.more.on.practical.applications.or.theoretical.concepts.'\n",
       "7. 'AL_tool_Hour'\n",
       "8. 'feel_of_AI_Tool'\n",
       "9. 'Hour_classmaterial'\n",
       "10. 'Hour_Assignment'\n",
       "11. 'hour_sports'\n",
       "12. 'hour_studentclub'\n",
       "13. 'hour_volunteer'\n",
       "14. 'hour_friends'\n",
       "15. 'hour_Socialize_family'\n",
       "16. 'student_type'\n",
       "17. 'IsDomestic'\n",
       "18. 'Tuition_percourse'\n",
       "19. 'Scholarship'\n",
       "20. 'percent_financial_aid'\n",
       "21. 'Work_or_not'\n",
       "22. 'IsWorking'\n",
       "23. 'work'\n",
       "24. 'Hour_work'\n",
       "25. 'feeling_financial_situation'\n",
       "26. 'sleep_hours'\n",
       "27. 'minute_social_media'\n",
       "28. 'hour_social_media'\n",
       "29. 'Minute_screen_nonacademic'\n",
       "30. 'Hour_screen_nonacademic'\n",
       "31. 'feeling_depress'\n",
       "32. 'Minute_Commute'\n",
       "33. 'Hour_commute'\n",
       "34. 'Transportantion_mode'\n",
       "35. 'X30..Do.you.prefer.taking.online.courses..in.person.courses..or.a.hybrid.of.both.'\n",
       "36. 'feeling_future_employ'\n",
       "37. 'Future_education'\n",
       "38. 'confidentlevel_job'\n",
       "39. 'career_path'\n",
       "40. 'Faculty'\n",
       "41. 'ethnicity'\n",
       "42. 'X37..Which.year.are.you.in.at.your.undergraduate.program.at.UBC.'\n",
       "43. 'hour_family'\n",
       "\n",
       "\n"
      ],
      "text/plain": [
       " [1] \"GPA\"                                                                                         \n",
       " [2] \"Hour_Econ326\"                                                                                \n",
       " [3] \"Hour_all_courses\"                                                                            \n",
       " [4] \"Extra_hour_forexam\"                                                                          \n",
       " [5] \"Coursetake.semester\"                                                                         \n",
       " [6] \"X7..Do.you.prefer.courses.that.focus.more.on.practical.applications.or.theoretical.concepts.\"\n",
       " [7] \"AL_tool_Hour\"                                                                                \n",
       " [8] \"feel_of_AI_Tool\"                                                                             \n",
       " [9] \"Hour_classmaterial\"                                                                          \n",
       "[10] \"Hour_Assignment\"                                                                             \n",
       "[11] \"hour_sports\"                                                                                 \n",
       "[12] \"hour_studentclub\"                                                                            \n",
       "[13] \"hour_volunteer\"                                                                              \n",
       "[14] \"hour_friends\"                                                                                \n",
       "[15] \"hour_Socialize_family\"                                                                       \n",
       "[16] \"student_type\"                                                                                \n",
       "[17] \"IsDomestic\"                                                                                  \n",
       "[18] \"Tuition_percourse\"                                                                           \n",
       "[19] \"Scholarship\"                                                                                 \n",
       "[20] \"percent_financial_aid\"                                                                       \n",
       "[21] \"Work_or_not\"                                                                                 \n",
       "[22] \"IsWorking\"                                                                                   \n",
       "[23] \"work\"                                                                                        \n",
       "[24] \"Hour_work\"                                                                                   \n",
       "[25] \"feeling_financial_situation\"                                                                 \n",
       "[26] \"sleep_hours\"                                                                                 \n",
       "[27] \"minute_social_media\"                                                                         \n",
       "[28] \"hour_social_media\"                                                                           \n",
       "[29] \"Minute_screen_nonacademic\"                                                                   \n",
       "[30] \"Hour_screen_nonacademic\"                                                                     \n",
       "[31] \"feeling_depress\"                                                                             \n",
       "[32] \"Minute_Commute\"                                                                              \n",
       "[33] \"Hour_commute\"                                                                                \n",
       "[34] \"Transportantion_mode\"                                                                        \n",
       "[35] \"X30..Do.you.prefer.taking.online.courses..in.person.courses..or.a.hybrid.of.both.\"           \n",
       "[36] \"feeling_future_employ\"                                                                       \n",
       "[37] \"Future_education\"                                                                            \n",
       "[38] \"confidentlevel_job\"                                                                          \n",
       "[39] \"career_path\"                                                                                 \n",
       "[40] \"Faculty\"                                                                                     \n",
       "[41] \"ethnicity\"                                                                                   \n",
       "[42] \"X37..Which.year.are.you.in.at.your.undergraduate.program.at.UBC.\"                            \n",
       "[43] \"hour_family\"                                                                                 "
      ]
     },
     "metadata": {},
     "output_type": "display_data"
    }
   ],
   "source": [
    "colnames(data) #The variables that are included"
   ]
  },
  {
   "cell_type": "code",
   "execution_count": 7,
   "id": "ec7febf5-0405-480e-8ef4-5b340b4ec146",
   "metadata": {},
   "outputs": [
    {
     "data": {
      "text/html": [
       "<table class=\"dataframe\">\n",
       "<caption>A data.frame: 6 × 43</caption>\n",
       "<thead>\n",
       "\t<tr><th></th><th scope=col>GPA</th><th scope=col>Hour_Econ326</th><th scope=col>Hour_all_courses</th><th scope=col>Extra_hour_forexam</th><th scope=col>Coursetake.semester</th><th scope=col>X7..Do.you.prefer.courses.that.focus.more.on.practical.applications.or.theoretical.concepts.</th><th scope=col>AL_tool_Hour</th><th scope=col>feel_of_AI_Tool</th><th scope=col>Hour_classmaterial</th><th scope=col>Hour_Assignment</th><th scope=col>⋯</th><th scope=col>Transportantion_mode</th><th scope=col>X30..Do.you.prefer.taking.online.courses..in.person.courses..or.a.hybrid.of.both.</th><th scope=col>feeling_future_employ</th><th scope=col>Future_education</th><th scope=col>confidentlevel_job</th><th scope=col>career_path</th><th scope=col>Faculty</th><th scope=col>ethnicity</th><th scope=col>X37..Which.year.are.you.in.at.your.undergraduate.program.at.UBC.</th><th scope=col>hour_family</th></tr>\n",
       "\t<tr><th></th><th scope=col>&lt;chr&gt;</th><th scope=col>&lt;dbl&gt;</th><th scope=col>&lt;dbl&gt;</th><th scope=col>&lt;chr&gt;</th><th scope=col>&lt;dbl&gt;</th><th scope=col>&lt;chr&gt;</th><th scope=col>&lt;chr&gt;</th><th scope=col>&lt;int&gt;</th><th scope=col>&lt;dbl&gt;</th><th scope=col>&lt;dbl&gt;</th><th scope=col>⋯</th><th scope=col>&lt;chr&gt;</th><th scope=col>&lt;chr&gt;</th><th scope=col>&lt;int&gt;</th><th scope=col>&lt;chr&gt;</th><th scope=col>&lt;int&gt;</th><th scope=col>&lt;chr&gt;</th><th scope=col>&lt;chr&gt;</th><th scope=col>&lt;chr&gt;</th><th scope=col>&lt;int&gt;</th><th scope=col>&lt;dbl&gt;</th></tr>\n",
       "</thead>\n",
       "<tbody>\n",
       "\t<tr><th scope=row>1</th><td>86  </td><td>8</td><td>30</td><td>30</td><td>4.8</td><td>More practical applications</td><td>1 </td><td>5</td><td>2.0</td><td>5.0</td><td>⋯</td><td>Public transit</td><td>Hybrid (mix of both)</td><td>3</td><td>Yes   </td><td>3</td><td>Finance, Banking, or Investment</td><td>Faculty of Arts                                                            </td><td>East Asian</td><td>3</td><td> 2</td></tr>\n",
       "\t<tr><th scope=row>2</th><td>78.6</td><td>1</td><td> 5</td><td>4 </td><td>5.0</td><td>More practical applications</td><td>2 </td><td>5</td><td>1.0</td><td>2.0</td><td>⋯</td><td>Walking       </td><td>Online courses      </td><td>5</td><td>Unsure</td><td>1</td><td>Finance, Banking, or Investment</td><td>Faculty of Commerce and Business Administration (Sauder School of Business)</td><td>East Asian</td><td>3</td><td>10</td></tr>\n",
       "\t<tr><th scope=row>3</th><td>63  </td><td>9</td><td>21</td><td>8 </td><td>4.0</td><td>More practical applications</td><td>12</td><td>5</td><td>6.0</td><td>5.0</td><td>⋯</td><td>Public transit</td><td>Online courses      </td><td>5</td><td>Yes   </td><td>5</td><td>Finance, Banking, or Investment</td><td>Faculty of Arts                                                            </td><td>East Asian</td><td>1</td><td> 8</td></tr>\n",
       "\t<tr><th scope=row>4</th><td>73  </td><td>4</td><td>12</td><td>20</td><td>4.5</td><td>More practical applications</td><td>0 </td><td>1</td><td>2.0</td><td>2.0</td><td>⋯</td><td>Walking       </td><td>In-person courses   </td><td>5</td><td>Unsure</td><td>5</td><td>Marketing or Communications    </td><td>Faculty of Arts                                                            </td><td>East Asian</td><td>3</td><td> 0</td></tr>\n",
       "\t<tr><th scope=row>5</th><td>90.1</td><td>5</td><td>30</td><td>20</td><td>4.3</td><td>More practical applications</td><td>10</td><td>5</td><td>7.0</td><td>9.0</td><td>⋯</td><td>Walking       </td><td>In-person courses   </td><td>3</td><td>No    </td><td>4</td><td>Entrepreneurship or Startups   </td><td>Faculty of Arts                                                            </td><td>East Asian</td><td>3</td><td>10</td></tr>\n",
       "\t<tr><th scope=row>6</th><td>73  </td><td>4</td><td>20</td><td>7 </td><td>5.0</td><td>More practical applications</td><td>2 </td><td>4</td><td>1.5</td><td>3.5</td><td>⋯</td><td>Walking       </td><td>Hybrid (mix of both)</td><td>4</td><td>Yes   </td><td>4</td><td>Finance, Banking, or Investment</td><td>Other                                                                      </td><td>White     </td><td>1</td><td> 7</td></tr>\n",
       "</tbody>\n",
       "</table>\n"
      ],
      "text/latex": [
       "A data.frame: 6 × 43\n",
       "\\begin{tabular}{r|lllllllllllllllllllll}\n",
       "  & GPA & Hour\\_Econ326 & Hour\\_all\\_courses & Extra\\_hour\\_forexam & Coursetake.semester & X7..Do.you.prefer.courses.that.focus.more.on.practical.applications.or.theoretical.concepts. & AL\\_tool\\_Hour & feel\\_of\\_AI\\_Tool & Hour\\_classmaterial & Hour\\_Assignment & ⋯ & Transportantion\\_mode & X30..Do.you.prefer.taking.online.courses..in.person.courses..or.a.hybrid.of.both. & feeling\\_future\\_employ & Future\\_education & confidentlevel\\_job & career\\_path & Faculty & ethnicity & X37..Which.year.are.you.in.at.your.undergraduate.program.at.UBC. & hour\\_family\\\\\n",
       "  & <chr> & <dbl> & <dbl> & <chr> & <dbl> & <chr> & <chr> & <int> & <dbl> & <dbl> & ⋯ & <chr> & <chr> & <int> & <chr> & <int> & <chr> & <chr> & <chr> & <int> & <dbl>\\\\\n",
       "\\hline\n",
       "\t1 & 86   & 8 & 30 & 30 & 4.8 & More practical applications & 1  & 5 & 2.0 & 5.0 & ⋯ & Public transit & Hybrid (mix of both) & 3 & Yes    & 3 & Finance, Banking, or Investment & Faculty of Arts                                                             & East Asian & 3 &  2\\\\\n",
       "\t2 & 78.6 & 1 &  5 & 4  & 5.0 & More practical applications & 2  & 5 & 1.0 & 2.0 & ⋯ & Walking        & Online courses       & 5 & Unsure & 1 & Finance, Banking, or Investment & Faculty of Commerce and Business Administration (Sauder School of Business) & East Asian & 3 & 10\\\\\n",
       "\t3 & 63   & 9 & 21 & 8  & 4.0 & More practical applications & 12 & 5 & 6.0 & 5.0 & ⋯ & Public transit & Online courses       & 5 & Yes    & 5 & Finance, Banking, or Investment & Faculty of Arts                                                             & East Asian & 1 &  8\\\\\n",
       "\t4 & 73   & 4 & 12 & 20 & 4.5 & More practical applications & 0  & 1 & 2.0 & 2.0 & ⋯ & Walking        & In-person courses    & 5 & Unsure & 5 & Marketing or Communications     & Faculty of Arts                                                             & East Asian & 3 &  0\\\\\n",
       "\t5 & 90.1 & 5 & 30 & 20 & 4.3 & More practical applications & 10 & 5 & 7.0 & 9.0 & ⋯ & Walking        & In-person courses    & 3 & No     & 4 & Entrepreneurship or Startups    & Faculty of Arts                                                             & East Asian & 3 & 10\\\\\n",
       "\t6 & 73   & 4 & 20 & 7  & 5.0 & More practical applications & 2  & 4 & 1.5 & 3.5 & ⋯ & Walking        & Hybrid (mix of both) & 4 & Yes    & 4 & Finance, Banking, or Investment & Other                                                                       & White      & 1 &  7\\\\\n",
       "\\end{tabular}\n"
      ],
      "text/markdown": [
       "\n",
       "A data.frame: 6 × 43\n",
       "\n",
       "| <!--/--> | GPA &lt;chr&gt; | Hour_Econ326 &lt;dbl&gt; | Hour_all_courses &lt;dbl&gt; | Extra_hour_forexam &lt;chr&gt; | Coursetake.semester &lt;dbl&gt; | X7..Do.you.prefer.courses.that.focus.more.on.practical.applications.or.theoretical.concepts. &lt;chr&gt; | AL_tool_Hour &lt;chr&gt; | feel_of_AI_Tool &lt;int&gt; | Hour_classmaterial &lt;dbl&gt; | Hour_Assignment &lt;dbl&gt; | ⋯ ⋯ | Transportantion_mode &lt;chr&gt; | X30..Do.you.prefer.taking.online.courses..in.person.courses..or.a.hybrid.of.both. &lt;chr&gt; | feeling_future_employ &lt;int&gt; | Future_education &lt;chr&gt; | confidentlevel_job &lt;int&gt; | career_path &lt;chr&gt; | Faculty &lt;chr&gt; | ethnicity &lt;chr&gt; | X37..Which.year.are.you.in.at.your.undergraduate.program.at.UBC. &lt;int&gt; | hour_family &lt;dbl&gt; |\n",
       "|---|---|---|---|---|---|---|---|---|---|---|---|---|---|---|---|---|---|---|---|---|---|\n",
       "| 1 | 86   | 8 | 30 | 30 | 4.8 | More practical applications | 1  | 5 | 2.0 | 5.0 | ⋯ | Public transit | Hybrid (mix of both) | 3 | Yes    | 3 | Finance, Banking, or Investment | Faculty of Arts                                                             | East Asian | 3 |  2 |\n",
       "| 2 | 78.6 | 1 |  5 | 4  | 5.0 | More practical applications | 2  | 5 | 1.0 | 2.0 | ⋯ | Walking        | Online courses       | 5 | Unsure | 1 | Finance, Banking, or Investment | Faculty of Commerce and Business Administration (Sauder School of Business) | East Asian | 3 | 10 |\n",
       "| 3 | 63   | 9 | 21 | 8  | 4.0 | More practical applications | 12 | 5 | 6.0 | 5.0 | ⋯ | Public transit | Online courses       | 5 | Yes    | 5 | Finance, Banking, or Investment | Faculty of Arts                                                             | East Asian | 1 |  8 |\n",
       "| 4 | 73   | 4 | 12 | 20 | 4.5 | More practical applications | 0  | 1 | 2.0 | 2.0 | ⋯ | Walking        | In-person courses    | 5 | Unsure | 5 | Marketing or Communications     | Faculty of Arts                                                             | East Asian | 3 |  0 |\n",
       "| 5 | 90.1 | 5 | 30 | 20 | 4.3 | More practical applications | 10 | 5 | 7.0 | 9.0 | ⋯ | Walking        | In-person courses    | 3 | No     | 4 | Entrepreneurship or Startups    | Faculty of Arts                                                             | East Asian | 3 | 10 |\n",
       "| 6 | 73   | 4 | 20 | 7  | 5.0 | More practical applications | 2  | 4 | 1.5 | 3.5 | ⋯ | Walking        | Hybrid (mix of both) | 4 | Yes    | 4 | Finance, Banking, or Investment | Other                                                                       | White      | 1 |  7 |\n",
       "\n"
      ],
      "text/plain": [
       "  GPA  Hour_Econ326 Hour_all_courses Extra_hour_forexam Coursetake.semester\n",
       "1 86   8            30               30                 4.8                \n",
       "2 78.6 1             5               4                  5.0                \n",
       "3 63   9            21               8                  4.0                \n",
       "4 73   4            12               20                 4.5                \n",
       "5 90.1 5            30               20                 4.3                \n",
       "6 73   4            20               7                  5.0                \n",
       "  X7..Do.you.prefer.courses.that.focus.more.on.practical.applications.or.theoretical.concepts.\n",
       "1 More practical applications                                                                 \n",
       "2 More practical applications                                                                 \n",
       "3 More practical applications                                                                 \n",
       "4 More practical applications                                                                 \n",
       "5 More practical applications                                                                 \n",
       "6 More practical applications                                                                 \n",
       "  AL_tool_Hour feel_of_AI_Tool Hour_classmaterial Hour_Assignment ⋯\n",
       "1 1            5               2.0                5.0             ⋯\n",
       "2 2            5               1.0                2.0             ⋯\n",
       "3 12           5               6.0                5.0             ⋯\n",
       "4 0            1               2.0                2.0             ⋯\n",
       "5 10           5               7.0                9.0             ⋯\n",
       "6 2            4               1.5                3.5             ⋯\n",
       "  Transportantion_mode\n",
       "1 Public transit      \n",
       "2 Walking             \n",
       "3 Public transit      \n",
       "4 Walking             \n",
       "5 Walking             \n",
       "6 Walking             \n",
       "  X30..Do.you.prefer.taking.online.courses..in.person.courses..or.a.hybrid.of.both.\n",
       "1 Hybrid (mix of both)                                                             \n",
       "2 Online courses                                                                   \n",
       "3 Online courses                                                                   \n",
       "4 In-person courses                                                                \n",
       "5 In-person courses                                                                \n",
       "6 Hybrid (mix of both)                                                             \n",
       "  feeling_future_employ Future_education confidentlevel_job\n",
       "1 3                     Yes              3                 \n",
       "2 5                     Unsure           1                 \n",
       "3 5                     Yes              5                 \n",
       "4 5                     Unsure           5                 \n",
       "5 3                     No               4                 \n",
       "6 4                     Yes              4                 \n",
       "  career_path                    \n",
       "1 Finance, Banking, or Investment\n",
       "2 Finance, Banking, or Investment\n",
       "3 Finance, Banking, or Investment\n",
       "4 Marketing or Communications    \n",
       "5 Entrepreneurship or Startups   \n",
       "6 Finance, Banking, or Investment\n",
       "  Faculty                                                                    \n",
       "1 Faculty of Arts                                                            \n",
       "2 Faculty of Commerce and Business Administration (Sauder School of Business)\n",
       "3 Faculty of Arts                                                            \n",
       "4 Faculty of Arts                                                            \n",
       "5 Faculty of Arts                                                            \n",
       "6 Other                                                                      \n",
       "  ethnicity  X37..Which.year.are.you.in.at.your.undergraduate.program.at.UBC.\n",
       "1 East Asian 3                                                               \n",
       "2 East Asian 3                                                               \n",
       "3 East Asian 1                                                               \n",
       "4 East Asian 3                                                               \n",
       "5 East Asian 3                                                               \n",
       "6 White      1                                                               \n",
       "  hour_family\n",
       "1  2         \n",
       "2 10         \n",
       "3  8         \n",
       "4  0         \n",
       "5 10         \n",
       "6  7         "
      ]
     },
     "metadata": {},
     "output_type": "display_data"
    }
   ],
   "source": [
    "head(data) #look at data types"
   ]
  },
  {
   "cell_type": "code",
   "execution_count": 8,
   "id": "7ee87d79-51f6-41c7-9466-fc4c2b850364",
   "metadata": {},
   "outputs": [],
   "source": [
    "data <- data |>\n",
    "  slice_head(n = 168) #Since we have only 168 Observations, we can slice it at that point to remove NAs"
   ]
  },
  {
   "cell_type": "code",
   "execution_count": 9,
   "id": "47667bfe-7661-44c2-bd8d-dfed737fd506",
   "metadata": {},
   "outputs": [
    {
     "data": {
      "text/html": [
       "<table class=\"dataframe\">\n",
       "<caption>A data.frame: 6 × 43</caption>\n",
       "<thead>\n",
       "\t<tr><th></th><th scope=col>GPA</th><th scope=col>Hour_Econ326</th><th scope=col>Hour_all_courses</th><th scope=col>Extra_hour_forexam</th><th scope=col>Coursetake.semester</th><th scope=col>X7..Do.you.prefer.courses.that.focus.more.on.practical.applications.or.theoretical.concepts.</th><th scope=col>AL_tool_Hour</th><th scope=col>feel_of_AI_Tool</th><th scope=col>Hour_classmaterial</th><th scope=col>Hour_Assignment</th><th scope=col>⋯</th><th scope=col>Transportantion_mode</th><th scope=col>X30..Do.you.prefer.taking.online.courses..in.person.courses..or.a.hybrid.of.both.</th><th scope=col>feeling_future_employ</th><th scope=col>Future_education</th><th scope=col>confidentlevel_job</th><th scope=col>career_path</th><th scope=col>Faculty</th><th scope=col>ethnicity</th><th scope=col>X37..Which.year.are.you.in.at.your.undergraduate.program.at.UBC.</th><th scope=col>hour_family</th></tr>\n",
       "\t<tr><th></th><th scope=col>&lt;chr&gt;</th><th scope=col>&lt;dbl&gt;</th><th scope=col>&lt;dbl&gt;</th><th scope=col>&lt;chr&gt;</th><th scope=col>&lt;dbl&gt;</th><th scope=col>&lt;chr&gt;</th><th scope=col>&lt;chr&gt;</th><th scope=col>&lt;int&gt;</th><th scope=col>&lt;dbl&gt;</th><th scope=col>&lt;dbl&gt;</th><th scope=col>⋯</th><th scope=col>&lt;chr&gt;</th><th scope=col>&lt;chr&gt;</th><th scope=col>&lt;int&gt;</th><th scope=col>&lt;chr&gt;</th><th scope=col>&lt;int&gt;</th><th scope=col>&lt;chr&gt;</th><th scope=col>&lt;chr&gt;</th><th scope=col>&lt;chr&gt;</th><th scope=col>&lt;int&gt;</th><th scope=col>&lt;dbl&gt;</th></tr>\n",
       "</thead>\n",
       "<tbody>\n",
       "\t<tr><th scope=row>163</th><td>90  </td><td> 8.0</td><td>20</td><td>10</td><td>3.0</td><td>More practical applications</td><td>10</td><td>5</td><td>5</td><td>7.0</td><td>⋯</td><td>Public transit</td><td>Online courses      </td><td>4</td><td>Yes   </td><td>5</td><td>Finance, Banking, or Investment</td><td>Faculty of Arts                         </td><td>East Asian   </td><td>2</td><td>7</td></tr>\n",
       "\t<tr><th scope=row>164</th><td>75  </td><td> 9.0</td><td>21</td><td>8 </td><td>4.0</td><td>More practical applications</td><td>12</td><td>5</td><td>6</td><td>5.0</td><td>⋯</td><td>Public transit</td><td>Online courses      </td><td>5</td><td>Yes   </td><td>5</td><td>Finance, Banking, or Investment</td><td>Faculty of Applied Science (Engineering)</td><td>White        </td><td>2</td><td>8</td></tr>\n",
       "\t<tr><th scope=row>165</th><td>70  </td><td>40.0</td><td> 8</td><td>5 </td><td>4.0</td><td>More practical applications</td><td>5 </td><td>5</td><td>2</td><td>2.0</td><td>⋯</td><td>Driving       </td><td>Hybrid (mix of both)</td><td>5</td><td>Unsure</td><td>3</td><td>Finance, Banking, or Investment</td><td>Faculty of Arts                         </td><td>East Asian   </td><td>3</td><td>3</td></tr>\n",
       "\t<tr><th scope=row>166</th><td>72  </td><td> 4.0</td><td>20</td><td>8 </td><td>4.0</td><td>More practical applications</td><td>6 </td><td>5</td><td>3</td><td>5.0</td><td>⋯</td><td>Walking       </td><td>Hybrid (mix of both)</td><td>5</td><td>Yes   </td><td>3</td><td>Entrepreneurship or Startups   </td><td>Faculty of Arts                         </td><td>Black        </td><td>3</td><td>5</td></tr>\n",
       "\t<tr><th scope=row>167</th><td>79.3</td><td> 4.5</td><td>14</td><td>6 </td><td>3.5</td><td>More theoretical concepts  </td><td>1 </td><td>3</td><td>2</td><td>4.5</td><td>⋯</td><td>Walking       </td><td>Hybrid (mix of both)</td><td>4</td><td>Unsure</td><td>1</td><td>Finance, Banking, or Investment</td><td>Faculty of Arts                         </td><td>East Asian   </td><td>3</td><td>2</td></tr>\n",
       "\t<tr><th scope=row>168</th><td>84  </td><td> 2.5</td><td>10</td><td>5 </td><td>4.5</td><td>More practical applications</td><td>2 </td><td>4</td><td>2</td><td>2.0</td><td>⋯</td><td>Public transit</td><td>Hybrid (mix of both)</td><td>3</td><td>Unsure</td><td>3</td><td>Consulting or Advisory Services</td><td>Faculty of Arts                         </td><td>Mixed / Other</td><td>3</td><td>2</td></tr>\n",
       "</tbody>\n",
       "</table>\n"
      ],
      "text/latex": [
       "A data.frame: 6 × 43\n",
       "\\begin{tabular}{r|lllllllllllllllllllll}\n",
       "  & GPA & Hour\\_Econ326 & Hour\\_all\\_courses & Extra\\_hour\\_forexam & Coursetake.semester & X7..Do.you.prefer.courses.that.focus.more.on.practical.applications.or.theoretical.concepts. & AL\\_tool\\_Hour & feel\\_of\\_AI\\_Tool & Hour\\_classmaterial & Hour\\_Assignment & ⋯ & Transportantion\\_mode & X30..Do.you.prefer.taking.online.courses..in.person.courses..or.a.hybrid.of.both. & feeling\\_future\\_employ & Future\\_education & confidentlevel\\_job & career\\_path & Faculty & ethnicity & X37..Which.year.are.you.in.at.your.undergraduate.program.at.UBC. & hour\\_family\\\\\n",
       "  & <chr> & <dbl> & <dbl> & <chr> & <dbl> & <chr> & <chr> & <int> & <dbl> & <dbl> & ⋯ & <chr> & <chr> & <int> & <chr> & <int> & <chr> & <chr> & <chr> & <int> & <dbl>\\\\\n",
       "\\hline\n",
       "\t163 & 90   &  8.0 & 20 & 10 & 3.0 & More practical applications & 10 & 5 & 5 & 7.0 & ⋯ & Public transit & Online courses       & 4 & Yes    & 5 & Finance, Banking, or Investment & Faculty of Arts                          & East Asian    & 2 & 7\\\\\n",
       "\t164 & 75   &  9.0 & 21 & 8  & 4.0 & More practical applications & 12 & 5 & 6 & 5.0 & ⋯ & Public transit & Online courses       & 5 & Yes    & 5 & Finance, Banking, or Investment & Faculty of Applied Science (Engineering) & White         & 2 & 8\\\\\n",
       "\t165 & 70   & 40.0 &  8 & 5  & 4.0 & More practical applications & 5  & 5 & 2 & 2.0 & ⋯ & Driving        & Hybrid (mix of both) & 5 & Unsure & 3 & Finance, Banking, or Investment & Faculty of Arts                          & East Asian    & 3 & 3\\\\\n",
       "\t166 & 72   &  4.0 & 20 & 8  & 4.0 & More practical applications & 6  & 5 & 3 & 5.0 & ⋯ & Walking        & Hybrid (mix of both) & 5 & Yes    & 3 & Entrepreneurship or Startups    & Faculty of Arts                          & Black         & 3 & 5\\\\\n",
       "\t167 & 79.3 &  4.5 & 14 & 6  & 3.5 & More theoretical concepts   & 1  & 3 & 2 & 4.5 & ⋯ & Walking        & Hybrid (mix of both) & 4 & Unsure & 1 & Finance, Banking, or Investment & Faculty of Arts                          & East Asian    & 3 & 2\\\\\n",
       "\t168 & 84   &  2.5 & 10 & 5  & 4.5 & More practical applications & 2  & 4 & 2 & 2.0 & ⋯ & Public transit & Hybrid (mix of both) & 3 & Unsure & 3 & Consulting or Advisory Services & Faculty of Arts                          & Mixed / Other & 3 & 2\\\\\n",
       "\\end{tabular}\n"
      ],
      "text/markdown": [
       "\n",
       "A data.frame: 6 × 43\n",
       "\n",
       "| <!--/--> | GPA &lt;chr&gt; | Hour_Econ326 &lt;dbl&gt; | Hour_all_courses &lt;dbl&gt; | Extra_hour_forexam &lt;chr&gt; | Coursetake.semester &lt;dbl&gt; | X7..Do.you.prefer.courses.that.focus.more.on.practical.applications.or.theoretical.concepts. &lt;chr&gt; | AL_tool_Hour &lt;chr&gt; | feel_of_AI_Tool &lt;int&gt; | Hour_classmaterial &lt;dbl&gt; | Hour_Assignment &lt;dbl&gt; | ⋯ ⋯ | Transportantion_mode &lt;chr&gt; | X30..Do.you.prefer.taking.online.courses..in.person.courses..or.a.hybrid.of.both. &lt;chr&gt; | feeling_future_employ &lt;int&gt; | Future_education &lt;chr&gt; | confidentlevel_job &lt;int&gt; | career_path &lt;chr&gt; | Faculty &lt;chr&gt; | ethnicity &lt;chr&gt; | X37..Which.year.are.you.in.at.your.undergraduate.program.at.UBC. &lt;int&gt; | hour_family &lt;dbl&gt; |\n",
       "|---|---|---|---|---|---|---|---|---|---|---|---|---|---|---|---|---|---|---|---|---|---|\n",
       "| 163 | 90   |  8.0 | 20 | 10 | 3.0 | More practical applications | 10 | 5 | 5 | 7.0 | ⋯ | Public transit | Online courses       | 4 | Yes    | 5 | Finance, Banking, or Investment | Faculty of Arts                          | East Asian    | 2 | 7 |\n",
       "| 164 | 75   |  9.0 | 21 | 8  | 4.0 | More practical applications | 12 | 5 | 6 | 5.0 | ⋯ | Public transit | Online courses       | 5 | Yes    | 5 | Finance, Banking, or Investment | Faculty of Applied Science (Engineering) | White         | 2 | 8 |\n",
       "| 165 | 70   | 40.0 |  8 | 5  | 4.0 | More practical applications | 5  | 5 | 2 | 2.0 | ⋯ | Driving        | Hybrid (mix of both) | 5 | Unsure | 3 | Finance, Banking, or Investment | Faculty of Arts                          | East Asian    | 3 | 3 |\n",
       "| 166 | 72   |  4.0 | 20 | 8  | 4.0 | More practical applications | 6  | 5 | 3 | 5.0 | ⋯ | Walking        | Hybrid (mix of both) | 5 | Yes    | 3 | Entrepreneurship or Startups    | Faculty of Arts                          | Black         | 3 | 5 |\n",
       "| 167 | 79.3 |  4.5 | 14 | 6  | 3.5 | More theoretical concepts   | 1  | 3 | 2 | 4.5 | ⋯ | Walking        | Hybrid (mix of both) | 4 | Unsure | 1 | Finance, Banking, or Investment | Faculty of Arts                          | East Asian    | 3 | 2 |\n",
       "| 168 | 84   |  2.5 | 10 | 5  | 4.5 | More practical applications | 2  | 4 | 2 | 2.0 | ⋯ | Public transit | Hybrid (mix of both) | 3 | Unsure | 3 | Consulting or Advisory Services | Faculty of Arts                          | Mixed / Other | 3 | 2 |\n",
       "\n"
      ],
      "text/plain": [
       "    GPA  Hour_Econ326 Hour_all_courses Extra_hour_forexam Coursetake.semester\n",
       "163 90    8.0         20               10                 3.0                \n",
       "164 75    9.0         21               8                  4.0                \n",
       "165 70   40.0          8               5                  4.0                \n",
       "166 72    4.0         20               8                  4.0                \n",
       "167 79.3  4.5         14               6                  3.5                \n",
       "168 84    2.5         10               5                  4.5                \n",
       "    X7..Do.you.prefer.courses.that.focus.more.on.practical.applications.or.theoretical.concepts.\n",
       "163 More practical applications                                                                 \n",
       "164 More practical applications                                                                 \n",
       "165 More practical applications                                                                 \n",
       "166 More practical applications                                                                 \n",
       "167 More theoretical concepts                                                                   \n",
       "168 More practical applications                                                                 \n",
       "    AL_tool_Hour feel_of_AI_Tool Hour_classmaterial Hour_Assignment ⋯\n",
       "163 10           5               5                  7.0             ⋯\n",
       "164 12           5               6                  5.0             ⋯\n",
       "165 5            5               2                  2.0             ⋯\n",
       "166 6            5               3                  5.0             ⋯\n",
       "167 1            3               2                  4.5             ⋯\n",
       "168 2            4               2                  2.0             ⋯\n",
       "    Transportantion_mode\n",
       "163 Public transit      \n",
       "164 Public transit      \n",
       "165 Driving             \n",
       "166 Walking             \n",
       "167 Walking             \n",
       "168 Public transit      \n",
       "    X30..Do.you.prefer.taking.online.courses..in.person.courses..or.a.hybrid.of.both.\n",
       "163 Online courses                                                                   \n",
       "164 Online courses                                                                   \n",
       "165 Hybrid (mix of both)                                                             \n",
       "166 Hybrid (mix of both)                                                             \n",
       "167 Hybrid (mix of both)                                                             \n",
       "168 Hybrid (mix of both)                                                             \n",
       "    feeling_future_employ Future_education confidentlevel_job\n",
       "163 4                     Yes              5                 \n",
       "164 5                     Yes              5                 \n",
       "165 5                     Unsure           3                 \n",
       "166 5                     Yes              3                 \n",
       "167 4                     Unsure           1                 \n",
       "168 3                     Unsure           3                 \n",
       "    career_path                     Faculty                                 \n",
       "163 Finance, Banking, or Investment Faculty of Arts                         \n",
       "164 Finance, Banking, or Investment Faculty of Applied Science (Engineering)\n",
       "165 Finance, Banking, or Investment Faculty of Arts                         \n",
       "166 Entrepreneurship or Startups    Faculty of Arts                         \n",
       "167 Finance, Banking, or Investment Faculty of Arts                         \n",
       "168 Consulting or Advisory Services Faculty of Arts                         \n",
       "    ethnicity    \n",
       "163 East Asian   \n",
       "164 White        \n",
       "165 East Asian   \n",
       "166 Black        \n",
       "167 East Asian   \n",
       "168 Mixed / Other\n",
       "    X37..Which.year.are.you.in.at.your.undergraduate.program.at.UBC.\n",
       "163 2                                                               \n",
       "164 2                                                               \n",
       "165 3                                                               \n",
       "166 3                                                               \n",
       "167 3                                                               \n",
       "168 3                                                               \n",
       "    hour_family\n",
       "163 7          \n",
       "164 8          \n",
       "165 3          \n",
       "166 5          \n",
       "167 2          \n",
       "168 2          "
      ]
     },
     "metadata": {},
     "output_type": "display_data"
    }
   ],
   "source": [
    "tail(data) #To check if we have sliced the data correctly"
   ]
  },
  {
   "cell_type": "code",
   "execution_count": 10,
   "id": "5dd0e6f3-f722-4e4f-afb7-687446178207",
   "metadata": {},
   "outputs": [],
   "source": [
    "#class(data)\n",
    "#str(data)"
   ]
  },
  {
   "cell_type": "code",
   "execution_count": 11,
   "id": "cf84891b-cf7c-49c1-b74c-13f91ee348c3",
   "metadata": {},
   "outputs": [
    {
     "data": {
      "text/plain": [
       "\n",
       "Call:\n",
       "lm(formula = sleep_hours ~ Hour_all_courses * IsWorking + minute_social_media * \n",
       "    IsWorking + Hour_screen_nonacademic * IsWorking + IsDomestic, \n",
       "    data = data)\n",
       "\n",
       "Residuals:\n",
       "     Min       1Q   Median       3Q      Max \n",
       "-2.29703 -0.60414  0.04159  0.67724  2.57840 \n",
       "\n",
       "Coefficients:\n",
       "                                   Estimate Std. Error t value Pr(>|t|)  \n",
       "(Intercept)                        3.944625   2.630154   1.500   0.1415  \n",
       "Hour_all_courses                   0.021328   0.068746   0.310   0.7580  \n",
       "IsWorking                          4.564497   2.677717   1.705   0.0960 .\n",
       "minute_social_media                0.013426   0.007705   1.743   0.0891 .\n",
       "Hour_screen_nonacademic            0.098080   0.194246   0.505   0.6164  \n",
       "IsDomestic                        -0.044387   0.318190  -0.139   0.8898  \n",
       "Hour_all_courses:IsWorking        -0.028171   0.070873  -0.397   0.6931  \n",
       "IsWorking:minute_social_media     -0.018971   0.007849  -2.417   0.0203 *\n",
       "IsWorking:Hour_screen_nonacademic -0.191011   0.204508  -0.934   0.3559  \n",
       "---\n",
       "Signif. codes:  0 ‘***’ 0.001 ‘**’ 0.01 ‘*’ 0.05 ‘.’ 0.1 ‘ ’ 1\n",
       "\n",
       "Residual standard error: 1.051 on 40 degrees of freedom\n",
       "  (119 observations deleted due to missingness)\n",
       "Multiple R-squared:  0.354,\tAdjusted R-squared:  0.2248 \n",
       "F-statistic:  2.74 on 8 and 40 DF,  p-value: 0.01645\n"
      ]
     },
     "metadata": {},
     "output_type": "display_data"
    }
   ],
   "source": [
    "# Run regression with interaction terms\n",
    "reg1 <- lm(sleep_hours ~ \n",
    "              Hour_all_courses * IsWorking + \n",
    "              minute_social_media * IsWorking + \n",
    "              Hour_screen_nonacademic * IsWorking + \n",
    "              IsDomestic,\n",
    "            data = data)\n",
    "summary(reg1)"
   ]
  },
  {
   "cell_type": "code",
   "execution_count": 12,
   "id": "90c26412-37f3-4a0e-bd84-19f173781c79",
   "metadata": {},
   "outputs": [
    {
     "data": {
      "text/plain": [
       "\n",
       "Call:\n",
       "lm(formula = sleep_hours ~ hour_social_media, data = data)\n",
       "\n",
       "Residuals:\n",
       "    Min      1Q  Median      3Q     Max \n",
       "-2.1977 -0.6008 -0.1368  0.8158  2.8023 \n",
       "\n",
       "Coefficients:\n",
       "                  Estimate Std. Error t value Pr(>|t|)    \n",
       "(Intercept)        7.26558    0.10280  70.678   <2e-16 ***\n",
       "hour_social_media -0.04067    0.02058  -1.977   0.0498 *  \n",
       "---\n",
       "Signif. codes:  0 ‘***’ 0.001 ‘**’ 0.01 ‘*’ 0.05 ‘.’ 0.1 ‘ ’ 1\n",
       "\n",
       "Residual standard error: 0.9837 on 164 degrees of freedom\n",
       "  (2 observations deleted due to missingness)\n",
       "Multiple R-squared:  0.02327,\tAdjusted R-squared:  0.01731 \n",
       "F-statistic: 3.907 on 1 and 164 DF,  p-value: 0.04976\n"
      ]
     },
     "metadata": {},
     "output_type": "display_data"
    }
   ],
   "source": [
    "# H₀: Increased time spent on social media (in hours) has no effect on hours slept.\n",
    "# H₁: Increased time spent on social media (in hours) has a significant effect on hours slept.\n",
    "\n",
    "\n",
    "model_social <- lm(sleep_hours ~ hour_social_media, data = data)\n",
    "summary(model_social)\n"
   ]
  },
  {
   "cell_type": "code",
   "execution_count": 13,
   "id": "071aa2c8-4711-4eeb-92b3-294da4cf1aa3",
   "metadata": {},
   "outputs": [
    {
     "data": {
      "text/plain": [
       "\n",
       "Call:\n",
       "lm(formula = sleep_hours ~ hour_sports, data = data)\n",
       "\n",
       "Residuals:\n",
       "     Min       1Q   Median       3Q      Max \n",
       "-2.30312 -0.60955 -0.06115  0.86021  2.91465 \n",
       "\n",
       "Coefficients:\n",
       "            Estimate Std. Error t value Pr(>|t|)    \n",
       "(Intercept)  7.01276    0.12552  55.869   <2e-16 ***\n",
       "hour_sports  0.02420    0.02056   1.177    0.241    \n",
       "---\n",
       "Signif. codes:  0 ‘***’ 0.001 ‘**’ 0.01 ‘*’ 0.05 ‘.’ 0.1 ‘ ’ 1\n",
       "\n",
       "Residual standard error: 0.9911 on 164 degrees of freedom\n",
       "  (2 observations deleted due to missingness)\n",
       "Multiple R-squared:  0.008379,\tAdjusted R-squared:  0.002332 \n",
       "F-statistic: 1.386 on 1 and 164 DF,  p-value: 0.2408\n"
      ]
     },
     "metadata": {},
     "output_type": "display_data"
    }
   ],
   "source": [
    "# H₀: Increased exercise hours have no effect on hours slept.\n",
    "# H₁: Increased exercise hours have a significant effect on hours slept.\n",
    "\n",
    "\n",
    "model_exercise <- lm(sleep_hours ~ hour_sports, data = data)\n",
    "summary(model_exercise)"
   ]
  },
  {
   "cell_type": "code",
   "execution_count": 14,
   "id": "a521ea81-bcff-4a41-b1aa-cf47e9b11f82",
   "metadata": {},
   "outputs": [
    {
     "data": {
      "text/plain": [
       "\n",
       "Call:\n",
       "lm(formula = sleep_hours ~ social_hours, data = data)\n",
       "\n",
       "Residuals:\n",
       "    Min      1Q  Median      3Q     Max \n",
       "-2.2357 -0.6729 -0.1101  0.8145  2.8020 \n",
       "\n",
       "Coefficients:\n",
       "              Estimate Std. Error t value Pr(>|t|)    \n",
       "(Intercept)   7.298411   0.150077  48.631   <2e-16 ***\n",
       "social_hours -0.012551   0.009604  -1.307    0.193    \n",
       "---\n",
       "Signif. codes:  0 ‘***’ 0.001 ‘**’ 0.01 ‘*’ 0.05 ‘.’ 0.1 ‘ ’ 1\n",
       "\n",
       "Residual standard error: 0.9931 on 163 degrees of freedom\n",
       "  (3 observations deleted due to missingness)\n",
       "Multiple R-squared:  0.01037,\tAdjusted R-squared:  0.004299 \n",
       "F-statistic: 1.708 on 1 and 163 DF,  p-value: 0.1931\n"
      ]
     },
     "metadata": {},
     "output_type": "display_data"
    }
   ],
   "source": [
    "# H₀: Increased hours spent socializing have no effect on hours slept.\n",
    "# H₁: Increased hours spent socializing have a significant effect on hours slept.\n",
    "\n",
    "\n",
    "data$social_hours <- data$hour_friends + data$hour_family\n",
    "\n",
    "model_socialize <- lm(sleep_hours ~ social_hours, data = data)\n",
    "summary(model_socialize)\n"
   ]
  },
  {
   "cell_type": "code",
   "execution_count": 15,
   "id": "22ffec75-d8a6-4d9a-81f4-df359fdfc0bd",
   "metadata": {},
   "outputs": [
    {
     "data": {
      "text/plain": [
       "\n",
       "Call:\n",
       "lm(formula = sleep_hours ~ Hour_all_courses, data = data)\n",
       "\n",
       "Residuals:\n",
       "    Min      1Q  Median      3Q     Max \n",
       "-2.1628 -0.6290 -0.1154  0.8541  2.8372 \n",
       "\n",
       "Coefficients:\n",
       "                  Estimate Std. Error t value Pr(>|t|)    \n",
       "(Intercept)       7.196627   0.178822  40.245   <2e-16 ***\n",
       "Hour_all_courses -0.003384   0.008133  -0.416    0.678    \n",
       "---\n",
       "Signif. codes:  0 ‘***’ 0.001 ‘**’ 0.01 ‘*’ 0.05 ‘.’ 0.1 ‘ ’ 1\n",
       "\n",
       "Residual standard error: 0.9948 on 164 degrees of freedom\n",
       "  (2 observations deleted due to missingness)\n",
       "Multiple R-squared:  0.001054,\tAdjusted R-squared:  -0.005037 \n",
       "F-statistic: 0.1731 on 1 and 164 DF,  p-value: 0.6779\n"
      ]
     },
     "metadata": {},
     "output_type": "display_data"
    }
   ],
   "source": [
    "# H₀: Increased study hours have no effect on hours slept.\n",
    "# H₁: Increased study hours have a significant effect on hours slept.\n",
    "\n",
    "\n",
    "model_study <- lm(sleep_hours ~ Hour_all_courses, data = data)\n",
    "summary(model_study)\n"
   ]
  },
  {
   "cell_type": "markdown",
   "id": "dd0000f2-6599-47cb-a129-01719fafb934",
   "metadata": {},
   "source": [
    "Now we are going to test Does being an international student relate to screen or social media time?"
   ]
  },
  {
   "cell_type": "code",
   "execution_count": 16,
   "id": "7cdc7b16-6c14-4cd9-9e94-6b19d8482e61",
   "metadata": {},
   "outputs": [
    {
     "data": {
      "text/plain": [
       "\n",
       "Call:\n",
       "lm(formula = hour_social_media ~ IsDomestic, data = data)\n",
       "\n",
       "Residuals:\n",
       "   Min     1Q Median     3Q    Max \n",
       "-3.478 -1.536 -0.518  0.739 38.482 \n",
       "\n",
       "Coefficients:\n",
       "            Estimate Std. Error t value Pr(>|t|)    \n",
       "(Intercept)   3.2615     0.3583   9.103 2.69e-16 ***\n",
       "IsDomestic    0.2565     0.5995   0.428    0.669    \n",
       "---\n",
       "Signif. codes:  0 ‘***’ 0.001 ‘**’ 0.01 ‘*’ 0.05 ‘.’ 0.1 ‘ ’ 1\n",
       "\n",
       "Residual standard error: 3.723 on 166 degrees of freedom\n",
       "Multiple R-squared:  0.001102,\tAdjusted R-squared:  -0.004916 \n",
       "F-statistic: 0.1831 on 1 and 166 DF,  p-value: 0.6693\n"
      ]
     },
     "metadata": {},
     "output_type": "display_data"
    },
    {
     "data": {
      "text/plain": [
       "\n",
       "Call:\n",
       "lm(formula = Hour_screen_nonacademic ~ IsDomestic, data = data)\n",
       "\n",
       "Residuals:\n",
       "   Min     1Q Median     3Q    Max \n",
       "-4.205 -1.870 -0.870  1.130 37.795 \n",
       "\n",
       "Coefficients:\n",
       "            Estimate Std. Error t value Pr(>|t|)    \n",
       "(Intercept)   3.8702     0.3825  10.119   <2e-16 ***\n",
       "IsDomestic    0.3345     0.6400   0.523    0.602    \n",
       "---\n",
       "Signif. codes:  0 ‘***’ 0.001 ‘**’ 0.01 ‘*’ 0.05 ‘.’ 0.1 ‘ ’ 1\n",
       "\n",
       "Residual standard error: 3.975 on 166 degrees of freedom\n",
       "Multiple R-squared:  0.001643,\tAdjusted R-squared:  -0.004371 \n",
       "F-statistic: 0.2732 on 1 and 166 DF,  p-value: 0.6019\n"
      ]
     },
     "metadata": {},
     "output_type": "display_data"
    }
   ],
   "source": [
    "# H₀: Being an international student has no effect on social media time (in hours).\n",
    "# H₁: Being an international student significantly affects social media time.\n",
    "\n",
    "model_domestic_social <- lm(hour_social_media ~ IsDomestic, data = data)\n",
    "summary(model_domestic_social)\n",
    "\n",
    "# H₀: Being an international student has no effect on screen time (nonacademic, in hours).\n",
    "# H₁: Being an international student significantly affects screen time.\n",
    "\n",
    "model_domestic_screen <- lm(Hour_screen_nonacademic ~ IsDomestic, data = data)\n",
    "summary(model_domestic_screen)\n"
   ]
  },
  {
   "cell_type": "markdown",
   "id": "12e273d3-fbde-4340-aee2-1ded675669d3",
   "metadata": {},
   "source": [
    "Economics-Socio factor control:  Interaction effects with working status"
   ]
  },
  {
   "cell_type": "markdown",
   "id": "6afb3f31-9010-433d-9a57-68c5ba954616",
   "metadata": {},
   "source": [
    " Interaction effects with working status"
   ]
  },
  {
   "cell_type": "code",
   "execution_count": 17,
   "id": "96323cc4-fc95-4be8-af01-06361fa1659e",
   "metadata": {},
   "outputs": [
    {
     "data": {
      "text/plain": [
       "\n",
       "Call:\n",
       "lm(formula = sleep_hours ~ hour_sports * IsWorking, data = data)\n",
       "\n",
       "Residuals:\n",
       "     Min       1Q   Median       3Q      Max \n",
       "-2.23951 -0.99510 -0.06842  0.85826  2.93158 \n",
       "\n",
       "Coefficients:\n",
       "                      Estimate Std. Error t value Pr(>|t|)    \n",
       "(Intercept)            7.32181    0.58762  12.460 3.45e-16 ***\n",
       "hour_sports           -0.02688    0.09006  -0.298    0.767    \n",
       "IsWorking             -0.32671    0.67545  -0.484    0.631    \n",
       "hour_sports:IsWorking  0.05132    0.10501   0.489    0.627    \n",
       "---\n",
       "Signif. codes:  0 ‘***’ 0.001 ‘**’ 0.01 ‘*’ 0.05 ‘.’ 0.1 ‘ ’ 1\n",
       "\n",
       "Residual standard error: 1.228 on 45 degrees of freedom\n",
       "  (119 observations deleted due to missingness)\n",
       "Multiple R-squared:  0.00728,\tAdjusted R-squared:  -0.0589 \n",
       "F-statistic:  0.11 on 3 and 45 DF,  p-value: 0.9538\n"
      ]
     },
     "metadata": {},
     "output_type": "display_data"
    }
   ],
   "source": [
    "# H₀: The effect of exercise on sleep hours is the same whether or not a student works.\n",
    "# H₁: The relationship between exercise and sleep differs based on working status.\n",
    "\n",
    "model_work_exercise <- lm(sleep_hours ~ hour_sports * IsWorking, data = data)\n",
    "summary(model_work_exercise)"
   ]
  },
  {
   "cell_type": "markdown",
   "id": "2e8e11e6-e4cb-4983-9e3e-e8f7e05724ba",
   "metadata": {},
   "source": [
    "Work * Social Media"
   ]
  },
  {
   "cell_type": "code",
   "execution_count": 18,
   "id": "73b742a6-6d24-4cae-959d-943b16d7dd86",
   "metadata": {},
   "outputs": [
    {
     "data": {
      "text/plain": [
       "\n",
       "Call:\n",
       "lm(formula = sleep_hours ~ hour_social_media * IsWorking, data = data)\n",
       "\n",
       "Residuals:\n",
       "    Min      1Q  Median      3Q     Max \n",
       "-2.4137 -0.7198  0.1883  0.5562  2.4549 \n",
       "\n",
       "Coefficients:\n",
       "                            Estimate Std. Error t value Pr(>|t|)    \n",
       "(Intercept)                   5.1336     1.2212   4.204 0.000123 ***\n",
       "hour_social_media             0.6620     0.3685   1.797 0.079114 .  \n",
       "IsWorking                     3.0760     1.2597   2.442 0.018607 *  \n",
       "hour_social_media:IsWorking  -1.0600     0.3810  -2.782 0.007869 ** \n",
       "---\n",
       "Signif. codes:  0 ‘***’ 0.001 ‘**’ 0.01 ‘*’ 0.05 ‘.’ 0.1 ‘ ’ 1\n",
       "\n",
       "Residual standard error: 1.025 on 45 degrees of freedom\n",
       "  (119 observations deleted due to missingness)\n",
       "Multiple R-squared:  0.3089,\tAdjusted R-squared:  0.2628 \n",
       "F-statistic: 6.705 on 3 and 45 DF,  p-value: 0.0007755\n"
      ]
     },
     "metadata": {},
     "output_type": "display_data"
    }
   ],
   "source": [
    "# H₀: The effect of social media use on sleep is the same regardless of working status.\n",
    "# H₁: The relationship between social media use and sleep differs for working students.\n",
    "\n",
    "model_work_social <- lm(sleep_hours ~ hour_social_media * IsWorking, data = data)\n",
    "summary(model_work_social)\n"
   ]
  },
  {
   "cell_type": "markdown",
   "id": "941a757c-3864-43d4-b5bd-e01efb482ffc",
   "metadata": {},
   "source": [
    "Work * Socialization"
   ]
  },
  {
   "cell_type": "code",
   "execution_count": 19,
   "id": "a52c6eaa-f86c-4fe6-b657-f03eafceb0a5",
   "metadata": {},
   "outputs": [
    {
     "data": {
      "text/plain": [
       "\n",
       "Call:\n",
       "lm(formula = sleep_hours ~ social_hours * IsWorking, data = data)\n",
       "\n",
       "Residuals:\n",
       "    Min      1Q  Median      3Q     Max \n",
       "-2.3666 -0.5234 -0.1062  0.8194  2.6706 \n",
       "\n",
       "Coefficients:\n",
       "                       Estimate Std. Error t value Pr(>|t|)    \n",
       "(Intercept)             6.45489    0.89240   7.233  4.6e-09 ***\n",
       "social_hours            0.05343    0.05451   0.980    0.332    \n",
       "IsWorking               1.17204    0.94679   1.238    0.222    \n",
       "social_hours:IsWorking -0.09062    0.05773  -1.570    0.123    \n",
       "---\n",
       "Signif. codes:  0 ‘***’ 0.001 ‘**’ 0.01 ‘*’ 0.05 ‘.’ 0.1 ‘ ’ 1\n",
       "\n",
       "Residual standard error: 1.172 on 45 degrees of freedom\n",
       "  (119 observations deleted due to missingness)\n",
       "Multiple R-squared:  0.09691,\tAdjusted R-squared:  0.0367 \n",
       "F-statistic:  1.61 on 3 and 45 DF,  p-value: 0.2004\n"
      ]
     },
     "metadata": {},
     "output_type": "display_data"
    }
   ],
   "source": [
    "# H₀: The effect of socialization on sleep is the same whether or not the student works.\n",
    "# H₁: The relationship between socialization and sleep is affected by working status.\n",
    "\n",
    "model_work_socialize <- lm(sleep_hours ~ social_hours * IsWorking, data = data)\n",
    "summary(model_work_socialize)\n"
   ]
  },
  {
   "cell_type": "code",
   "execution_count": null,
   "id": "663f77c7-72e8-4607-9362-74fe6f2d904f",
   "metadata": {},
   "outputs": [],
   "source": [
    "# H₀: The effect of socialization on working hours is not affected by tuition.\n",
    "# H₁: There is an effect on working hours caused by tuition.\n",
    "model_work_tuition <- lm(sleephours~IsWorking"
   ]
  },
  {
   "cell_type": "code",
   "execution_count": null,
   "id": "0aaedfd1-f468-43ec-8f6e-a562ffe2a239",
   "metadata": {},
   "outputs": [],
   "source": []
  },
  {
   "cell_type": "code",
   "execution_count": null,
   "id": "eff69c40-061b-4500-9040-c1b834ff2cfc",
   "metadata": {},
   "outputs": [],
   "source": []
  }
 ],
 "metadata": {
  "kernelspec": {
   "display_name": "R",
   "language": "R",
   "name": "ir"
  },
  "language_info": {
   "codemirror_mode": "r",
   "file_extension": ".r",
   "mimetype": "text/x-r-source",
   "name": "R",
   "pygments_lexer": "r",
   "version": "4.4.1"
  }
 },
 "nbformat": 4,
 "nbformat_minor": 5
}
